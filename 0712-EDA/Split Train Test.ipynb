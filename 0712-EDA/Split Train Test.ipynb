{
 "cells": [
  {
   "cell_type": "code",
   "execution_count": 1,
   "metadata": {},
   "outputs": [],
   "source": [
    "import pandas as pd\n",
    "import numpy as np\n",
    "from itertools import chain, combinations"
   ]
  },
  {
   "cell_type": "markdown",
   "metadata": {},
   "source": [
    "# load Data"
   ]
  },
  {
   "cell_type": "code",
   "execution_count": 2,
   "metadata": {},
   "outputs": [
    {
     "name": "stderr",
     "output_type": "stream",
     "text": [
      "c:\\users\\puff\\anaconda3\\envs\\ieee\\lib\\site-packages\\IPython\\core\\interactiveshell.py:3063: DtypeWarning: Columns (4) have mixed types. Specify dtype option on import or set low_memory=False.\n",
      "  interactivity=interactivity, compiler=compiler, result=result)\n"
     ]
    }
   ],
   "source": [
    "COMMENTS_PATH = 'IBI_case_comments_anonymized.csv'\n",
    "COMMENTS = pd.read_csv(COMMENTS_PATH)\n",
    "\n",
    "METADATA_PATH = 'IBI_case_metadata_anonymized.csv'\n",
    "METADATA = pd.read_csv(METADATA_PATH)\n",
    "\n",
    "MILESTONES_PATH = 'IBI_case_milestones_anonymized.csv'\n",
    "MILESTONES = pd.read_csv(MILESTONES_PATH)\n",
    "\n",
    "HISTORY_PATH = 'IBI_case_status_history_v2.csv'\n",
    "HISTORY = pd.read_csv(HISTORY_PATH)\n",
    "\n",
    "PRED_PATH = 'IBI_test_cases_no_target.csv'\n",
    "PRED = pd.read_csv(PRED_PATH)\n",
    "\n",
    "DICT_PATH = 'challenge_dictionary_info.csv'\n",
    "DICT = pd.read_csv(DICT_PATH)"
   ]
  },
  {
   "cell_type": "markdown",
   "metadata": {},
   "source": [
    "# Get PK Function"
   ]
  },
  {
   "cell_type": "code",
   "execution_count": 3,
   "metadata": {},
   "outputs": [],
   "source": [
    "# PK - 包含複合\n",
    "def key_options(items):\n",
    "    return chain.from_iterable(combinations(items, r) for r in range(1, len(items)+1))\n",
    "\n",
    "def get_pk(df: pd.DataFrame):\n",
    "    for candidate in key_options(list(df)[1:]):\n",
    "        deduped = COMMENTS.drop_duplicates(candidate)\n",
    "        \n",
    "        if len(deduped.index) == len(df.index):\n",
    "            print(','.join(candidate))\n",
    "\n",
    "get_pk(COMMENTS)"
   ]
  },
  {
   "cell_type": "code",
   "execution_count": 4,
   "metadata": {},
   "outputs": [],
   "source": [
    "# PK - 單一\n",
    "def get_single_pk(df:pd.DataFrame):\n",
    "    for col in df.columns:\n",
    "        if (df[col].isnull().values.sum()==0) and (len(df[col].unique())==len(df)):\n",
    "            print(col)\n",
    "\n",
    "        \n",
    "get_single_pk(COMMENTS)"
   ]
  },
  {
   "cell_type": "code",
   "execution_count": 5,
   "metadata": {},
   "outputs": [],
   "source": [
    "get_single_pk(COMMENTS)"
   ]
  },
  {
   "cell_type": "code",
   "execution_count": 6,
   "metadata": {},
   "outputs": [],
   "source": [
    "get_single_pk(MILESTONES)"
   ]
  },
  {
   "cell_type": "code",
   "execution_count": 7,
   "metadata": {},
   "outputs": [],
   "source": [
    "get_single_pk(HISTORY)"
   ]
  },
  {
   "cell_type": "code",
   "execution_count": 8,
   "metadata": {},
   "outputs": [
    {
     "name": "stdout",
     "output_type": "stream",
     "text": [
      "REFERENCEID\n",
      "CASENUM\n"
     ]
    }
   ],
   "source": [
    "get_single_pk(METADATA)"
   ]
  },
  {
   "cell_type": "markdown",
   "metadata": {},
   "source": [
    "# Split Data"
   ]
  },
  {
   "cell_type": "markdown",
   "metadata": {},
   "source": [
    "### Metadata"
   ]
  },
  {
   "cell_type": "code",
   "execution_count": 9,
   "metadata": {},
   "outputs": [],
   "source": [
    "METADATA_TRAIN = METADATA[~METADATA['REFERENCEID'].isin(PRED['REFERENCEID'])]\n",
    "METADATA_TEST = METADATA[METADATA['REFERENCEID'].isin(PRED['REFERENCEID'])]"
   ]
  },
  {
   "cell_type": "code",
   "execution_count": 35,
   "metadata": {},
   "outputs": [
    {
     "data": {
      "text/plain": [
       "(40911, 12724)"
      ]
     },
     "execution_count": 35,
     "metadata": {},
     "output_type": "execute_result"
    }
   ],
   "source": [
    "len(METADATA_TRAIN), len(METADATA_TEST)"
   ]
  },
  {
   "cell_type": "code",
   "execution_count": 13,
   "metadata": {},
   "outputs": [],
   "source": [
    "METADATA_TRAIN.to_csv('IBI_METADATA_TRAIN.csv', encoding='utf-8', index=False)\n",
    "METADATA_TEST.to_csv('IBI_METADATA_TEST.csv', encoding='utf-8', index=False)"
   ]
  },
  {
   "cell_type": "markdown",
   "metadata": {},
   "source": [
    "### Comments"
   ]
  },
  {
   "cell_type": "code",
   "execution_count": 17,
   "metadata": {},
   "outputs": [],
   "source": [
    "COMMENTS_TRAIN = COMMENTS[~COMMENTS['REFERENCEID'].isin(PRED['REFERENCEID'])]\n",
    "COMMENTS_TEST = COMMENTS[COMMENTS['REFERENCEID'].isin(PRED['REFERENCEID'])]"
   ]
  },
  {
   "cell_type": "code",
   "execution_count": 25,
   "metadata": {},
   "outputs": [
    {
     "data": {
      "text/plain": [
       "(731679, 105350)"
      ]
     },
     "execution_count": 25,
     "metadata": {},
     "output_type": "execute_result"
    }
   ],
   "source": [
    "len(COMMENTS_TRAIN),len(COMMENTS_TEST)"
   ]
  },
  {
   "cell_type": "code",
   "execution_count": 26,
   "metadata": {},
   "outputs": [],
   "source": [
    "COMMENTS_TRAIN.to_csv('IBI_COMMENTS_TRAIN.csv', encoding='utf-8', index=False)\n",
    "COMMENTS_TEST.to_csv('IBI_COMMENTS_TEST.csv', encoding='utf-8', index=False)"
   ]
  },
  {
   "cell_type": "markdown",
   "metadata": {},
   "source": [
    "### Milestones"
   ]
  },
  {
   "cell_type": "code",
   "execution_count": 29,
   "metadata": {},
   "outputs": [],
   "source": [
    "MILESTONES_TRAIN = MILESTONES[~MILESTONES['REFERENCEID'].isin(PRED['REFERENCEID'])]\n",
    "MILESTONES_TEST = MILESTONES[MILESTONES['REFERENCEID'].isin(PRED['REFERENCEID'])]"
   ]
  },
  {
   "cell_type": "code",
   "execution_count": 30,
   "metadata": {},
   "outputs": [
    {
     "data": {
      "text/plain": [
       "(813802, 147445)"
      ]
     },
     "execution_count": 30,
     "metadata": {},
     "output_type": "execute_result"
    }
   ],
   "source": [
    "len(MILESTONES_TRAIN), len(MILESTONES_TEST)"
   ]
  },
  {
   "cell_type": "code",
   "execution_count": 31,
   "metadata": {},
   "outputs": [],
   "source": [
    "MILESTONES_TRAIN.to_csv('IBI_MILESTONES_TRAIN.csv', encoding='utf-8', index=False)\n",
    "MILESTONES_TEST.to_csv('IBI_MILESTONES_TEST.csv', encoding='utf-8', index=False)"
   ]
  },
  {
   "cell_type": "markdown",
   "metadata": {},
   "source": [
    "### History"
   ]
  },
  {
   "cell_type": "code",
   "execution_count": 33,
   "metadata": {},
   "outputs": [],
   "source": [
    "HISTORY_TRAIN = HISTORY[~HISTORY['REFERENCEID'].isin(PRED['REFERENCEID'])]\n",
    "HISTORY_TEST = HISTORY[HISTORY['REFERENCEID'].isin(PRED['REFERENCEID'])]"
   ]
  },
  {
   "cell_type": "code",
   "execution_count": 34,
   "metadata": {},
   "outputs": [
    {
     "data": {
      "text/plain": [
       "(708214, 104900)"
      ]
     },
     "execution_count": 34,
     "metadata": {},
     "output_type": "execute_result"
    }
   ],
   "source": [
    "len(HISTORY_TRAIN), len(HISTORY_TEST)"
   ]
  },
  {
   "cell_type": "code",
   "execution_count": 36,
   "metadata": {},
   "outputs": [],
   "source": [
    "HISTORY_TRAIN.to_csv('IBI_HISTORY_TRAIN.csv', encoding='utf-8', index=False)\n",
    "HISTORY_TEST.to_csv('IBI_HISTORY_TEST.csv', encoding='utf-8', index=False)"
   ]
  },
  {
   "cell_type": "code",
   "execution_count": null,
   "metadata": {},
   "outputs": [],
   "source": []
  },
  {
   "cell_type": "code",
   "execution_count": null,
   "metadata": {},
   "outputs": [],
   "source": []
  },
  {
   "cell_type": "code",
   "execution_count": null,
   "metadata": {},
   "outputs": [],
   "source": []
  },
  {
   "cell_type": "code",
   "execution_count": null,
   "metadata": {},
   "outputs": [],
   "source": []
  },
  {
   "cell_type": "code",
   "execution_count": null,
   "metadata": {},
   "outputs": [],
   "source": []
  }
 ],
 "metadata": {
  "kernelspec": {
   "display_name": "Python 3",
   "language": "python",
   "name": "python3"
  },
  "language_info": {
   "codemirror_mode": {
    "name": "ipython",
    "version": 3
   },
   "file_extension": ".py",
   "mimetype": "text/x-python",
   "name": "python",
   "nbconvert_exporter": "python",
   "pygments_lexer": "ipython3",
   "version": "3.7.5"
  }
 },
 "nbformat": 4,
 "nbformat_minor": 4
}
